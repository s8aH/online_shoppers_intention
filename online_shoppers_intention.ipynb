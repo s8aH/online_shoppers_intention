{
 "cells": [
  {
   "cell_type": "markdown",
   "metadata": {},
   "source": [
    "Online Shoppers Purchasing Intention"
   ]
  },
  {
   "cell_type": "markdown",
   "metadata": {},
   "source": [
    "- Preliminary exploratory data analysis:"
   ]
  },
  {
   "cell_type": "markdown",
   "metadata": {},
   "source": [
    "Demonstrate that the dataset can be read from the web into R "
   ]
  },
  {
   "cell_type": "code",
   "execution_count": 3,
   "metadata": {},
   "outputs": [
    {
     "name": "stderr",
     "output_type": "stream",
     "text": [
      "Updating HTML index of packages in '.Library'\n",
      "\n",
      "Making 'packages.html' ...\n",
      " done\n",
      "\n"
     ]
    }
   ],
   "source": [
    "install.packages(\"formattable\")"
   ]
  },
  {
   "cell_type": "code",
   "execution_count": 16,
   "metadata": {},
   "outputs": [],
   "source": [
    "#load packages\n",
    "library(tidyverse)\n",
    "library(tidymodels)\n",
    "library(formattable)\n",
    "library(knitr)\n",
    "library(caret)"
   ]
  },
  {
   "cell_type": "code",
   "execution_count": 8,
   "metadata": {},
   "outputs": [
    {
     "name": "stderr",
     "output_type": "stream",
     "text": [
      "Parsed with column specification:\n",
      "cols(\n",
      "  Administrative = \u001b[32mcol_double()\u001b[39m,\n",
      "  Administrative_Duration = \u001b[32mcol_double()\u001b[39m,\n",
      "  Informational = \u001b[32mcol_double()\u001b[39m,\n",
      "  Informational_Duration = \u001b[32mcol_double()\u001b[39m,\n",
      "  ProductRelated = \u001b[32mcol_double()\u001b[39m,\n",
      "  ProductRelated_Duration = \u001b[32mcol_double()\u001b[39m,\n",
      "  BounceRates = \u001b[32mcol_double()\u001b[39m,\n",
      "  ExitRates = \u001b[32mcol_double()\u001b[39m,\n",
      "  PageValues = \u001b[32mcol_double()\u001b[39m,\n",
      "  SpecialDay = \u001b[32mcol_double()\u001b[39m,\n",
      "  Month = \u001b[31mcol_character()\u001b[39m,\n",
      "  OperatingSystems = \u001b[32mcol_double()\u001b[39m,\n",
      "  Browser = \u001b[32mcol_double()\u001b[39m,\n",
      "  Region = \u001b[32mcol_double()\u001b[39m,\n",
      "  TrafficType = \u001b[32mcol_double()\u001b[39m,\n",
      "  VisitorType = \u001b[31mcol_character()\u001b[39m,\n",
      "  Weekend = \u001b[33mcol_logical()\u001b[39m,\n",
      "  Revenue = \u001b[33mcol_logical()\u001b[39m\n",
      ")\n",
      "\n"
     ]
    }
   ],
   "source": [
    "#load data\n",
    "shoppers<-read_csv(\"data/online_shoppers_intention.csv\")"
   ]
  },
  {
   "cell_type": "code",
   "execution_count": null,
   "metadata": {},
   "outputs": [],
   "source": [
    "#Three criteria for tidy data:\n",
    "# Each row is a single observation\n",
    "# Each column is a single variable\n",
    "# Each value is a single cell\n",
    "\n",
    "# Revenue: purchase or not\n",
    "# Weekend: purchase on weekends or not"
   ]
  },
  {
   "cell_type": "code",
   "execution_count": 9,
   "metadata": {},
   "outputs": [
    {
     "data": {
      "text/html": [
       "<table>\n",
       "<caption>A tibble: 6 × 18</caption>\n",
       "<thead>\n",
       "\t<tr><th scope=col>Administrative</th><th scope=col>Administrative_Duration</th><th scope=col>Informational</th><th scope=col>Informational_Duration</th><th scope=col>ProductRelated</th><th scope=col>ProductRelated_Duration</th><th scope=col>BounceRates</th><th scope=col>ExitRates</th><th scope=col>PageValues</th><th scope=col>SpecialDay</th><th scope=col>Month</th><th scope=col>OperatingSystems</th><th scope=col>Browser</th><th scope=col>Region</th><th scope=col>TrafficType</th><th scope=col>VisitorType</th><th scope=col>Weekend</th><th scope=col>Revenue</th></tr>\n",
       "\t<tr><th scope=col>&lt;dbl&gt;</th><th scope=col>&lt;dbl&gt;</th><th scope=col>&lt;dbl&gt;</th><th scope=col>&lt;dbl&gt;</th><th scope=col>&lt;dbl&gt;</th><th scope=col>&lt;dbl&gt;</th><th scope=col>&lt;dbl&gt;</th><th scope=col>&lt;dbl&gt;</th><th scope=col>&lt;dbl&gt;</th><th scope=col>&lt;dbl&gt;</th><th scope=col>&lt;chr&gt;</th><th scope=col>&lt;dbl&gt;</th><th scope=col>&lt;dbl&gt;</th><th scope=col>&lt;dbl&gt;</th><th scope=col>&lt;dbl&gt;</th><th scope=col>&lt;chr&gt;</th><th scope=col>&lt;lgl&gt;</th><th scope=col>&lt;fct&gt;</th></tr>\n",
       "</thead>\n",
       "<tbody>\n",
       "\t<tr><td>0</td><td>0</td><td>0</td><td>0</td><td> 1</td><td>  0.000000</td><td>0.20000000</td><td>0.2000000</td><td>0</td><td>0</td><td>Feb</td><td>1</td><td>1</td><td>1</td><td>1</td><td>Returning_Visitor</td><td>FALSE</td><td>FALSE</td></tr>\n",
       "\t<tr><td>0</td><td>0</td><td>0</td><td>0</td><td> 2</td><td> 64.000000</td><td>0.00000000</td><td>0.1000000</td><td>0</td><td>0</td><td>Feb</td><td>2</td><td>2</td><td>1</td><td>2</td><td>Returning_Visitor</td><td>FALSE</td><td>FALSE</td></tr>\n",
       "\t<tr><td>0</td><td>0</td><td>0</td><td>0</td><td> 1</td><td>  0.000000</td><td>0.20000000</td><td>0.2000000</td><td>0</td><td>0</td><td>Feb</td><td>4</td><td>1</td><td>9</td><td>3</td><td>Returning_Visitor</td><td>FALSE</td><td>FALSE</td></tr>\n",
       "\t<tr><td>0</td><td>0</td><td>0</td><td>0</td><td> 2</td><td>  2.666667</td><td>0.05000000</td><td>0.1400000</td><td>0</td><td>0</td><td>Feb</td><td>3</td><td>2</td><td>2</td><td>4</td><td>Returning_Visitor</td><td>FALSE</td><td>FALSE</td></tr>\n",
       "\t<tr><td>0</td><td>0</td><td>0</td><td>0</td><td>10</td><td>627.500000</td><td>0.02000000</td><td>0.0500000</td><td>0</td><td>0</td><td>Feb</td><td>3</td><td>3</td><td>1</td><td>4</td><td>Returning_Visitor</td><td> TRUE</td><td>FALSE</td></tr>\n",
       "\t<tr><td>0</td><td>0</td><td>0</td><td>0</td><td>19</td><td>154.216667</td><td>0.01578947</td><td>0.0245614</td><td>0</td><td>0</td><td>Feb</td><td>2</td><td>2</td><td>1</td><td>3</td><td>Returning_Visitor</td><td>FALSE</td><td>FALSE</td></tr>\n",
       "</tbody>\n",
       "</table>\n"
      ],
      "text/latex": [
       "A tibble: 6 × 18\n",
       "\\begin{tabular}{llllllllllllllllll}\n",
       " Administrative & Administrative\\_Duration & Informational & Informational\\_Duration & ProductRelated & ProductRelated\\_Duration & BounceRates & ExitRates & PageValues & SpecialDay & Month & OperatingSystems & Browser & Region & TrafficType & VisitorType & Weekend & Revenue\\\\\n",
       " <dbl> & <dbl> & <dbl> & <dbl> & <dbl> & <dbl> & <dbl> & <dbl> & <dbl> & <dbl> & <chr> & <dbl> & <dbl> & <dbl> & <dbl> & <chr> & <lgl> & <fct>\\\\\n",
       "\\hline\n",
       "\t 0 & 0 & 0 & 0 &  1 &   0.000000 & 0.20000000 & 0.2000000 & 0 & 0 & Feb & 1 & 1 & 1 & 1 & Returning\\_Visitor & FALSE & FALSE\\\\\n",
       "\t 0 & 0 & 0 & 0 &  2 &  64.000000 & 0.00000000 & 0.1000000 & 0 & 0 & Feb & 2 & 2 & 1 & 2 & Returning\\_Visitor & FALSE & FALSE\\\\\n",
       "\t 0 & 0 & 0 & 0 &  1 &   0.000000 & 0.20000000 & 0.2000000 & 0 & 0 & Feb & 4 & 1 & 9 & 3 & Returning\\_Visitor & FALSE & FALSE\\\\\n",
       "\t 0 & 0 & 0 & 0 &  2 &   2.666667 & 0.05000000 & 0.1400000 & 0 & 0 & Feb & 3 & 2 & 2 & 4 & Returning\\_Visitor & FALSE & FALSE\\\\\n",
       "\t 0 & 0 & 0 & 0 & 10 & 627.500000 & 0.02000000 & 0.0500000 & 0 & 0 & Feb & 3 & 3 & 1 & 4 & Returning\\_Visitor &  TRUE & FALSE\\\\\n",
       "\t 0 & 0 & 0 & 0 & 19 & 154.216667 & 0.01578947 & 0.0245614 & 0 & 0 & Feb & 2 & 2 & 1 & 3 & Returning\\_Visitor & FALSE & FALSE\\\\\n",
       "\\end{tabular}\n"
      ],
      "text/markdown": [
       "\n",
       "A tibble: 6 × 18\n",
       "\n",
       "| Administrative &lt;dbl&gt; | Administrative_Duration &lt;dbl&gt; | Informational &lt;dbl&gt; | Informational_Duration &lt;dbl&gt; | ProductRelated &lt;dbl&gt; | ProductRelated_Duration &lt;dbl&gt; | BounceRates &lt;dbl&gt; | ExitRates &lt;dbl&gt; | PageValues &lt;dbl&gt; | SpecialDay &lt;dbl&gt; | Month &lt;chr&gt; | OperatingSystems &lt;dbl&gt; | Browser &lt;dbl&gt; | Region &lt;dbl&gt; | TrafficType &lt;dbl&gt; | VisitorType &lt;chr&gt; | Weekend &lt;lgl&gt; | Revenue &lt;fct&gt; |\n",
       "|---|---|---|---|---|---|---|---|---|---|---|---|---|---|---|---|---|---|\n",
       "| 0 | 0 | 0 | 0 |  1 |   0.000000 | 0.20000000 | 0.2000000 | 0 | 0 | Feb | 1 | 1 | 1 | 1 | Returning_Visitor | FALSE | FALSE |\n",
       "| 0 | 0 | 0 | 0 |  2 |  64.000000 | 0.00000000 | 0.1000000 | 0 | 0 | Feb | 2 | 2 | 1 | 2 | Returning_Visitor | FALSE | FALSE |\n",
       "| 0 | 0 | 0 | 0 |  1 |   0.000000 | 0.20000000 | 0.2000000 | 0 | 0 | Feb | 4 | 1 | 9 | 3 | Returning_Visitor | FALSE | FALSE |\n",
       "| 0 | 0 | 0 | 0 |  2 |   2.666667 | 0.05000000 | 0.1400000 | 0 | 0 | Feb | 3 | 2 | 2 | 4 | Returning_Visitor | FALSE | FALSE |\n",
       "| 0 | 0 | 0 | 0 | 10 | 627.500000 | 0.02000000 | 0.0500000 | 0 | 0 | Feb | 3 | 3 | 1 | 4 | Returning_Visitor |  TRUE | FALSE |\n",
       "| 0 | 0 | 0 | 0 | 19 | 154.216667 | 0.01578947 | 0.0245614 | 0 | 0 | Feb | 2 | 2 | 1 | 3 | Returning_Visitor | FALSE | FALSE |\n",
       "\n"
      ],
      "text/plain": [
       "  Administrative Administrative_Duration Informational Informational_Duration\n",
       "1 0              0                       0             0                     \n",
       "2 0              0                       0             0                     \n",
       "3 0              0                       0             0                     \n",
       "4 0              0                       0             0                     \n",
       "5 0              0                       0             0                     \n",
       "6 0              0                       0             0                     \n",
       "  ProductRelated ProductRelated_Duration BounceRates ExitRates PageValues\n",
       "1  1               0.000000              0.20000000  0.2000000 0         \n",
       "2  2              64.000000              0.00000000  0.1000000 0         \n",
       "3  1               0.000000              0.20000000  0.2000000 0         \n",
       "4  2               2.666667              0.05000000  0.1400000 0         \n",
       "5 10             627.500000              0.02000000  0.0500000 0         \n",
       "6 19             154.216667              0.01578947  0.0245614 0         \n",
       "  SpecialDay Month OperatingSystems Browser Region TrafficType\n",
       "1 0          Feb   1                1       1      1          \n",
       "2 0          Feb   2                2       1      2          \n",
       "3 0          Feb   4                1       9      3          \n",
       "4 0          Feb   3                2       2      4          \n",
       "5 0          Feb   3                3       1      4          \n",
       "6 0          Feb   2                2       1      3          \n",
       "  VisitorType       Weekend Revenue\n",
       "1 Returning_Visitor FALSE   FALSE  \n",
       "2 Returning_Visitor FALSE   FALSE  \n",
       "3 Returning_Visitor FALSE   FALSE  \n",
       "4 Returning_Visitor FALSE   FALSE  \n",
       "5 Returning_Visitor  TRUE   FALSE  \n",
       "6 Returning_Visitor FALSE   FALSE  "
      ]
     },
     "metadata": {},
     "output_type": "display_data"
    }
   ],
   "source": [
    "# we will use the logical Revenue variable as the target variable, and convert it to the factor datatype \n",
    "shoppers <- shoppers %>%\n",
    "    mutate(Revenue = as_factor(Revenue))\n",
    "head(shoppers)\n",
    "\n",
    "set.seed(1)\n",
    "# we will use 75% of the data for training and 25% for testing.\n",
    "shoppers_split <- initial_split(shoppers, prop = 0.75, strata = Revenue)\n",
    "shoppers_train <- training(shoppers_split)\n",
    "shoppers_test <- testing(shoppers_split)"
   ]
  },
  {
   "cell_type": "code",
   "execution_count": null,
   "metadata": {},
   "outputs": [],
   "source": []
  },
  {
   "cell_type": "code",
   "execution_count": 10,
   "metadata": {},
   "outputs": [
    {
     "name": "stderr",
     "output_type": "stream",
     "text": [
      "Warning message:\n",
      "“Setting row names on a tibble is deprecated.”\n"
     ]
    },
    {
     "data": {
      "text/html": [
       "<table>\n",
       "<caption>A formattable: 5 × 10</caption>\n",
       "<thead>\n",
       "\t<tr><th></th><th scope=col>Administrative</th><th scope=col>Administrative_Duration</th><th scope=col>Informational</th><th scope=col>Informational_Duration</th><th scope=col>ProductRelated</th><th scope=col>ProductRelated_Duration</th><th scope=col>BounceRates</th><th scope=col>ExitRates</th><th scope=col>PageValues</th><th scope=col>SpecialDay</th></tr>\n",
       "\t<tr><th></th><th scope=col>&lt;dbl&gt;</th><th scope=col>&lt;dbl&gt;</th><th scope=col>&lt;dbl&gt;</th><th scope=col>&lt;dbl&gt;</th><th scope=col>&lt;dbl&gt;</th><th scope=col>&lt;dbl&gt;</th><th scope=col>&lt;dbl&gt;</th><th scope=col>&lt;dbl&gt;</th><th scope=col>&lt;dbl&gt;</th><th scope=col>&lt;dbl&gt;</th></tr>\n",
       "</thead>\n",
       "<tbody>\n",
       "\t<tr><th scope=row>count</th><td>9248.000000</td><td>9248.00000</td><td>9248.0000000</td><td>9248.00000</td><td>9248.00000</td><td> 9248.000</td><td>9.248000e+03</td><td>9.248000e+03</td><td>9248.000000</td><td>9.24800e+03</td></tr>\n",
       "\t<tr><th scope=row>mean</th><td>   2.286873</td><td>  79.62898</td><td>   0.5009732</td><td>  34.26938</td><td>  31.50692</td><td> 1187.485</td><td>2.200924e-02</td><td>4.310152e-02</td><td>   5.974699</td><td>6.20026e-02</td></tr>\n",
       "\t<tr><th scope=row>min</th><td>   0.000000</td><td>   0.00000</td><td>   0.0000000</td><td>   0.00000</td><td>   0.00000</td><td>    0.000</td><td>0.000000e+00</td><td>0.000000e+00</td><td>   0.000000</td><td>0.00000e+00</td></tr>\n",
       "\t<tr><th scope=row>max</th><td>  27.000000</td><td>2657.31806</td><td>  16.0000000</td><td>2256.91667</td><td> 686.00000</td><td>29970.466</td><td>2.000000e-01</td><td>2.000000e-01</td><td> 361.763742</td><td>1.00000e+00</td></tr>\n",
       "\t<tr><th scope=row># missing data</th><td>   0.000000</td><td>   0.00000</td><td>   0.0000000</td><td>   0.00000</td><td>   0.00000</td><td>    0.000</td><td>0.000000e+00</td><td>0.000000e+00</td><td>   0.000000</td><td>0.00000e+00</td></tr>\n",
       "</tbody>\n",
       "</table>\n"
      ],
      "text/latex": [
       "A formattable: 5 × 10\n",
       "\\begin{tabular}{r|llllllllll}\n",
       "  & Administrative & Administrative\\_Duration & Informational & Informational\\_Duration & ProductRelated & ProductRelated\\_Duration & BounceRates & ExitRates & PageValues & SpecialDay\\\\\n",
       "  & <dbl> & <dbl> & <dbl> & <dbl> & <dbl> & <dbl> & <dbl> & <dbl> & <dbl> & <dbl>\\\\\n",
       "\\hline\n",
       "\tcount & 9248.000000 & 9248.00000 & 9248.0000000 & 9248.00000 & 9248.00000 &  9248.000 & 9.248000e+03 & 9.248000e+03 & 9248.000000 & 9.24800e+03\\\\\n",
       "\tmean &    2.286873 &   79.62898 &    0.5009732 &   34.26938 &   31.50692 &  1187.485 & 2.200924e-02 & 4.310152e-02 &    5.974699 & 6.20026e-02\\\\\n",
       "\tmin &    0.000000 &    0.00000 &    0.0000000 &    0.00000 &    0.00000 &     0.000 & 0.000000e+00 & 0.000000e+00 &    0.000000 & 0.00000e+00\\\\\n",
       "\tmax &   27.000000 & 2657.31806 &   16.0000000 & 2256.91667 &  686.00000 & 29970.466 & 2.000000e-01 & 2.000000e-01 &  361.763742 & 1.00000e+00\\\\\n",
       "\t\\# missing data &    0.000000 &    0.00000 &    0.0000000 &    0.00000 &    0.00000 &     0.000 & 0.000000e+00 & 0.000000e+00 &    0.000000 & 0.00000e+00\\\\\n",
       "\\end{tabular}\n"
      ],
      "text/markdown": [
       "\n",
       "A formattable: 5 × 10\n",
       "\n",
       "| <!--/--> | Administrative &lt;dbl&gt; | Administrative_Duration &lt;dbl&gt; | Informational &lt;dbl&gt; | Informational_Duration &lt;dbl&gt; | ProductRelated &lt;dbl&gt; | ProductRelated_Duration &lt;dbl&gt; | BounceRates &lt;dbl&gt; | ExitRates &lt;dbl&gt; | PageValues &lt;dbl&gt; | SpecialDay &lt;dbl&gt; |\n",
       "|---|---|---|---|---|---|---|---|---|---|---|\n",
       "| count | 9248.000000 | 9248.00000 | 9248.0000000 | 9248.00000 | 9248.00000 |  9248.000 | 9.248000e+03 | 9.248000e+03 | 9248.000000 | 9.24800e+03 |\n",
       "| mean |    2.286873 |   79.62898 |    0.5009732 |   34.26938 |   31.50692 |  1187.485 | 2.200924e-02 | 4.310152e-02 |    5.974699 | 6.20026e-02 |\n",
       "| min |    0.000000 |    0.00000 |    0.0000000 |    0.00000 |    0.00000 |     0.000 | 0.000000e+00 | 0.000000e+00 |    0.000000 | 0.00000e+00 |\n",
       "| max |   27.000000 | 2657.31806 |   16.0000000 | 2256.91667 |  686.00000 | 29970.466 | 2.000000e-01 | 2.000000e-01 |  361.763742 | 1.00000e+00 |\n",
       "| # missing data |    0.000000 |    0.00000 |    0.0000000 |    0.00000 |    0.00000 |     0.000 | 0.000000e+00 | 0.000000e+00 |    0.000000 | 0.00000e+00 |\n",
       "\n"
      ],
      "text/plain": [
       "               Administrative Administrative_Duration Informational\n",
       "count          9248.000000    9248.00000              9248.0000000 \n",
       "mean              2.286873      79.62898                 0.5009732 \n",
       "min               0.000000       0.00000                 0.0000000 \n",
       "max              27.000000    2657.31806                16.0000000 \n",
       "# missing data    0.000000       0.00000                 0.0000000 \n",
       "               Informational_Duration ProductRelated ProductRelated_Duration\n",
       "count          9248.00000             9248.00000      9248.000              \n",
       "mean             34.26938               31.50692      1187.485              \n",
       "min               0.00000                0.00000         0.000              \n",
       "max            2256.91667              686.00000     29970.466              \n",
       "# missing data    0.00000                0.00000         0.000              \n",
       "               BounceRates  ExitRates    PageValues  SpecialDay \n",
       "count          9.248000e+03 9.248000e+03 9248.000000 9.24800e+03\n",
       "mean           2.200924e-02 4.310152e-02    5.974699 6.20026e-02\n",
       "min            0.000000e+00 0.000000e+00    0.000000 0.00000e+00\n",
       "max            2.000000e-01 2.000000e-01  361.763742 1.00000e+00\n",
       "# missing data 0.000000e+00 0.000000e+00    0.000000 0.00000e+00"
      ]
     },
     "metadata": {},
     "output_type": "display_data"
    }
   ],
   "source": [
    "# numerical features used in the analysis model\n",
    "numeric_shoppers <- shoppers_train %>% \n",
    "    select(where(is.numeric)) %>%\n",
    "    select(-c(OperatingSystems,Browser,Region,TrafficType))\n",
    "\n",
    "\n",
    "num_shoppers_count <- numeric_shoppers %>% \n",
    "    nrow() # number of observations in each class\n",
    "shoppers_mean <- map_df(numeric_shoppers, mean, na.rm = TRUE) # means of the predictor variables\n",
    "shoppers_min <- map_df(numeric_shoppers, min, na.rm = TRUE) # mins of the predictor variables\n",
    "shoppers_max <- map_df(numeric_shoppers, max, na.rm = TRUE) # maxs of the predictor variables\n",
    "num_missing_data1 <- colSums(is.na(numeric_shoppers)| is.null(numeric_shoppers)) # numbers of missing data in predictor variables\n",
    "\n",
    "# make a dataframe consisting of th\n",
    "t1 <- rbind(num_shoppers_count,shoppers_mean,shoppers_min,shoppers_max,num_missing_data1)\n",
    "rownames(t1)<-c(\"count\",\"mean\",\"min\",\"max\",\"# missing data\")\n",
    "numeric_table <- formattable(t1)\n",
    "numeric_table"
   ]
  },
  {
   "cell_type": "markdown",
   "metadata": {},
   "source": [
    "Table 1 : Numerical Features Esed in the Analysis"
   ]
  },
  {
   "cell_type": "code",
   "execution_count": 11,
   "metadata": {},
   "outputs": [
    {
     "name": "stderr",
     "output_type": "stream",
     "text": [
      "Warning message:\n",
      "“Setting row names on a tibble is deprecated.”\n"
     ]
    },
    {
     "data": {
      "text/html": [
       "<table>\n",
       "<caption>A formattable: 2 × 8</caption>\n",
       "<thead>\n",
       "\t<tr><th></th><th scope=col>OperatingSystems</th><th scope=col>Browser</th><th scope=col>Region</th><th scope=col>TrafficType</th><th scope=col>VisitorType</th><th scope=col>Weekend</th><th scope=col>Month</th><th scope=col>Revenue</th></tr>\n",
       "\t<tr><th></th><th scope=col>&lt;dbl&gt;</th><th scope=col>&lt;dbl&gt;</th><th scope=col>&lt;dbl&gt;</th><th scope=col>&lt;dbl&gt;</th><th scope=col>&lt;dbl&gt;</th><th scope=col>&lt;dbl&gt;</th><th scope=col>&lt;dbl&gt;</th><th scope=col>&lt;dbl&gt;</th></tr>\n",
       "</thead>\n",
       "<tbody>\n",
       "\t<tr><th scope=row>count</th><td>8</td><td>13</td><td>9</td><td>20</td><td>3</td><td>2</td><td>10</td><td>2</td></tr>\n",
       "\t<tr><th scope=row># missing data</th><td>0</td><td> 0</td><td>0</td><td> 0</td><td>0</td><td>0</td><td> 0</td><td>0</td></tr>\n",
       "</tbody>\n",
       "</table>\n"
      ],
      "text/latex": [
       "A formattable: 2 × 8\n",
       "\\begin{tabular}{r|llllllll}\n",
       "  & OperatingSystems & Browser & Region & TrafficType & VisitorType & Weekend & Month & Revenue\\\\\n",
       "  & <dbl> & <dbl> & <dbl> & <dbl> & <dbl> & <dbl> & <dbl> & <dbl>\\\\\n",
       "\\hline\n",
       "\tcount & 8 & 13 & 9 & 20 & 3 & 2 & 10 & 2\\\\\n",
       "\t\\# missing data & 0 &  0 & 0 &  0 & 0 & 0 &  0 & 0\\\\\n",
       "\\end{tabular}\n"
      ],
      "text/markdown": [
       "\n",
       "A formattable: 2 × 8\n",
       "\n",
       "| <!--/--> | OperatingSystems &lt;dbl&gt; | Browser &lt;dbl&gt; | Region &lt;dbl&gt; | TrafficType &lt;dbl&gt; | VisitorType &lt;dbl&gt; | Weekend &lt;dbl&gt; | Month &lt;dbl&gt; | Revenue &lt;dbl&gt; |\n",
       "|---|---|---|---|---|---|---|---|---|\n",
       "| count | 8 | 13 | 9 | 20 | 3 | 2 | 10 | 2 |\n",
       "| # missing data | 0 |  0 | 0 |  0 | 0 | 0 |  0 | 0 |\n",
       "\n"
      ],
      "text/plain": [
       "               OperatingSystems Browser Region TrafficType VisitorType Weekend\n",
       "count          8                13      9      20          3           2      \n",
       "# missing data 0                 0      0       0          0           0      \n",
       "               Month Revenue\n",
       "count          10    2      \n",
       "# missing data  0    0      "
      ]
     },
     "metadata": {},
     "output_type": "display_data"
    }
   ],
   "source": [
    "# make a copy of training set \n",
    "shoppers_train_copy <- data.frame(shoppers_train)\n",
    "\n",
    "# categorical features used in the analysis model\n",
    "#cat_variables <- c(OperatingSystems, Browser,Region,\n",
    "#            TrafficType,VisitorType,Weekend,Month,Revenue)\n",
    "\n",
    "cat_shoppers <- shoppers_train_copy %>%\n",
    "    select(OperatingSystems, Browser,Region,\n",
    "            TrafficType,VisitorType,Weekend,Month,Revenue) %>%\n",
    "    mutate_all(as_factor)\n",
    "\n",
    "# number of observations in each class\n",
    "cat_shoppers_count <- map_df(cat_shoppers, nlevels) \n",
    "\n",
    "# check for missing data in each column\n",
    "num_missing_data <- colSums(is.na(cat_shoppers) | is.null(cat_shoppers))\n",
    "\n",
    "t2 <- rbind(cat_shoppers_count,num_missing_data)\n",
    "rownames(t2)<-c(\"count\",\"# missing data\")\n",
    "cat_table <- formattable(t2)\n",
    "cat_table"
   ]
  },
  {
   "cell_type": "markdown",
   "metadata": {},
   "source": [
    "Table 2 : Categorical Features Used in the Analysis"
   ]
  },
  {
   "cell_type": "code",
   "execution_count": null,
   "metadata": {},
   "outputs": [],
   "source": [
    "# df consisting numerical features and Revenue\n",
    "numeric_and_rev <- cbind(numeric_shoppers,shoppers_train$Revenue) %>%\n",
    "    mutate(Revenue = shoppers_train$Revenue) %>%\n",
    "    select(-c(11))\n",
    "\n",
    "# create the standardization recipe\n",
    "shoppers_recipe <- recipe(Revenue ~ ., data = numeric_and_rev) %>% \n",
    "    step_scale(all_predictors()) %>%\n",
    "    step_center(all_predictors())\n",
    "\n",
    "knn_spec <- nearest_neighbor(weight_func = \"rectangular\", neighbors = tune()) %>%\n",
    "  set_engine(\"kknn\") %>%\n",
    "  set_mode(\"classification\")\n",
    "\n",
    "shoppers_vfold <- vfold_cv(numeric_and_rev, v = 5, strata = Revenue)"
   ]
  },
  {
   "cell_type": "code",
   "execution_count": null,
   "metadata": {},
   "outputs": [],
   "source": [
    "# fit the knn model\n",
    "shoppers_wkflw <- workflow() %>%\n",
    "    add_recipe(shoppers_recipe) %>%\n",
    "    add_model(knn_spec)\n",
    "\n",
    "gridvals <- tibble(neighbors = seq(1, 200))\n",
    "\n",
    "shoppers_results <- shoppers_wkflw %>%\n",
    "  tune_grid(resamples = shoppers_vfold, grid = gridvals) %>%\n",
    "  collect_metrics()\n",
    "\n",
    "k_min <- shoppers_results %>%\n",
    "  filter(.metric == \"rmse\") %>%\n",
    "  filter(mean == min(mean))\n",
    "k_min\n",
    "\n",
    "numeric_and_rev <- cbind(numeric_shoppers,shoppers_train$Revenue) %>%\n",
    "    mutate(Revenue = shoppers_train$Revenue) %>%\n",
    "    select(-c(11))\n",
    "numeric_and_rev"
   ]
  },
  {
   "cell_type": "code",
   "execution_count": 19,
   "metadata": {},
   "outputs": [
    {
     "data": {
      "text/plain": [
       "rpart variable importance\n",
       "\n",
       "  only 20 most important variables shown (out of 29)\n",
       "\n",
       "                             Overall\n",
       "PageValues                   100.000\n",
       "BounceRates                   16.825\n",
       "ProductRelated                15.187\n",
       "ExitRates                     13.704\n",
       "ProductRelated_Duration       10.585\n",
       "VisitorTypeReturning_Visitor   6.439\n",
       "VisitorTypeNew_Visitor         6.055\n",
       "MonthFeb                       0.000\n",
       "MonthNov                       0.000\n",
       "Browser                        0.000\n",
       "MonthOct                       0.000\n",
       "Administrative                 0.000\n",
       "VisitorTypeOther               0.000\n",
       "MonthDec                       0.000\n",
       "MonthMar                       0.000\n",
       "WeekendTRUE                    0.000\n",
       "Informational_Duration         0.000\n",
       "MonthJul                       0.000\n",
       "Administrative_Duration        0.000\n",
       "Informational                  0.000"
      ]
     },
     "metadata": {},
     "output_type": "display_data"
    }
   ],
   "source": [
    "# select the features that had the largest effect on the revenue\n",
    "tr<-train(Revenue ~ ., data=shoppers_train, method=\"rpart\")\n",
    "varImp(tr)"
   ]
  },
  {
   "cell_type": "code",
   "execution_count": null,
   "metadata": {},
   "outputs": [],
   "source": []
  },
  {
   "cell_type": "code",
   "execution_count": null,
   "metadata": {},
   "outputs": [],
   "source": []
  }
 ],
 "metadata": {
  "kernelspec": {
   "display_name": "R",
   "language": "R",
   "name": "ir"
  },
  "language_info": {
   "codemirror_mode": "r",
   "file_extension": ".r",
   "mimetype": "text/x-r-source",
   "name": "R",
   "pygments_lexer": "r",
   "version": "4.0.0"
  }
 },
 "nbformat": 4,
 "nbformat_minor": 4
}
